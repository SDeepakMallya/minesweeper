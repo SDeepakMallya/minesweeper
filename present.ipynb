{
 "cells": [
  {
   "cell_type": "markdown",
   "metadata": {},
   "source": [
    "# Minesweeper"
   ]
  },
  {
   "cell_type": "markdown",
   "metadata": {},
   "source": [
    "### Introduction\n",
    "\n",
    "- Fun(?)\n",
    "- Addictive! (Believe Me, I know)\n",
    "- 18 +\n",
    "- Helps getting placed in Analytics (\\\\__/)\n",
    "\n"
   ]
  },
  {
   "cell_type": "markdown",
   "metadata": {},
   "source": [
    "### Let's Play!"
   ]
  },
  {
   "cell_type": "code",
   "execution_count": 5,
   "metadata": {},
   "outputs": [
    {
     "name": "stderr",
     "output_type": "stream",
     "text": [
      "/tmp/ipykernel_8344/1338544240.py:10: DeprecationWarning: executable_path has been deprecated, please pass in a Service object\n",
      "  browser = webdriver.Chrome(executable_path='/home/sdeepakmallya/chromedriver')\n"
     ]
    }
   ],
   "source": [
    "from selenium import webdriver\n",
    "from selenium.webdriver.common.by import By\n",
    "from selenium.common.exceptions import UnexpectedAlertPresentException\n",
    "from selenium.webdriver.common.action_chains import ActionChains\n",
    "from selenium.webdriver.common.keys import Keys\n",
    "import numpy as np\n",
    "# import sweeper\n",
    "import time\n",
    "\n",
    "browser = webdriver.Chrome(executable_path='/home/sdeepakmallya/chromedriver')\n",
    "browser.get('http://minesweeperonline.com/')"
   ]
  },
  {
   "cell_type": "markdown",
   "metadata": {},
   "source": [
    "### (Probabilistic) Constraint Satisfaction Problem \n",
    "\n",
    "- Set of Linear Equations for every cell\n",
    "- Integer Variables\n",
    "- Sequential Decision Making as you uncover the cells\n"
   ]
  },
  {
   "cell_type": "markdown",
   "metadata": {},
   "source": [
    "### Let's think Analytically!\n",
    "\n",
    "Game State\n",
    "\n",
    "\n",
    "![Image 1](images/img1.png)\n",
    "\n",
    "\n",
    "Predictions\n",
    "\n",
    "\n",
    "![Image 2](images/img2.png)\n",
    "\n",
    "\n",
    "Result\n",
    "\n",
    "\n",
    "![Image 3](images/img3.png)"
   ]
  },
  {
   "cell_type": "markdown",
   "metadata": {},
   "source": [
    "### Now to the Solver\n",
    "\n",
    "#### Formulation\n",
    "- Cell - Equation (Constraint)\n",
    "#### Solvers\n",
    "- Psuedo Inverse\n",
    "- Miniminization\n",
    "- Constraint Satisfaction"
   ]
  },
  {
   "cell_type": "markdown",
   "metadata": {},
   "source": [
    "### Solution!"
   ]
  }
 ],
 "metadata": {
  "kernelspec": {
   "display_name": "Python 3.8.10 64-bit",
   "language": "python",
   "name": "python3"
  },
  "language_info": {
   "codemirror_mode": {
    "name": "ipython",
    "version": 3
   },
   "file_extension": ".py",
   "mimetype": "text/x-python",
   "name": "python",
   "nbconvert_exporter": "python",
   "pygments_lexer": "ipython3",
   "version": "3.8.10"
  },
  "orig_nbformat": 4,
  "vscode": {
   "interpreter": {
    "hash": "916dbcbb3f70747c44a77c7bcd40155683ae19c65e1c03b4aa3499c5328201f1"
   }
  }
 },
 "nbformat": 4,
 "nbformat_minor": 2
}
